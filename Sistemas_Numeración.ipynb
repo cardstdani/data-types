{
  "nbformat": 4,
  "nbformat_minor": 0,
  "metadata": {
    "colab": {
      "name": "Sistemas_Numeración.ipynb",
      "provenance": [],
      "collapsed_sections": []
    },
    "kernelspec": {
      "name": "python3",
      "display_name": "Python 3"
    },
    "language_info": {
      "name": "python"
    }
  },
  "cells": [
    {
      "cell_type": "markdown",
      "metadata": {
        "id": "o7oTn-Hhbtiq"
      },
      "source": [
        "**Conversión del sistema decimal a binario**"
      ]
    },
    {
      "cell_type": "markdown",
      "metadata": {
        "id": "10Li1DjFbxXk"
      },
      "source": [
        "Mientras que el número de entrada sea mayor o igual que 1, se iguala al cociente de su división por 2 y al número en binario se le añade el resto de dicha división al inicio del resultado."
      ]
    },
    {
      "cell_type": "code",
      "metadata": {
        "colab": {
          "base_uri": "https://localhost:8080/"
        },
        "id": "puJDsXr4cP2z",
        "outputId": "b5f5ba86-398e-4f56-9c05-c30229c53eba"
      },
      "source": [
        "dec = 53\n",
        "bin = \"\"\n",
        "\n",
        "while dec >= 1:\n",
        "  bin = str(dec % 2) + bin\n",
        "  dec = dec // 2\n",
        "\n",
        "print(bin)"
      ],
      "execution_count": null,
      "outputs": [
        {
          "output_type": "stream",
          "name": "stdout",
          "text": [
            "110101\n"
          ]
        }
      ]
    },
    {
      "cell_type": "markdown",
      "metadata": {
        "id": "x553pEJhdV3a"
      },
      "source": [
        "**Conversión del sistema decimal a hexadecimal**"
      ]
    },
    {
      "cell_type": "markdown",
      "metadata": {
        "id": "mLY0OglGdaak"
      },
      "source": [
        "Mientras que el número de entrada sea mayor o igual que 1, se iguala al cociente de su división por 16 y al número en hexadecimal se le añade el resto de dicha división en formato hexadecimal al inicio del resultado."
      ]
    },
    {
      "cell_type": "code",
      "metadata": {
        "colab": {
          "base_uri": "https://localhost:8080/"
        },
        "id": "vduLR17beC8o",
        "outputId": "f0d38650-71d2-4eaa-ba88-fbc719d050fe"
      },
      "source": [
        "dec = 256\n",
        "hex = \"\"\n",
        "map = {0 : 0, 1: 1, 2: 2, 3: 3, 4: 4, 5: 5, 6: 6, 7: 7, 8: 8, 9: 9, 10: \"A\", 11: \"B\", 12: \"C\", 13: \"D\", 14: \"E\", 15: \"F\"}\n",
        "\n",
        "while dec >= 1:\n",
        "  hex = str(map[dec % 16]) + hex\n",
        "  dec = dec // 16\n",
        "\n",
        "print(hex)"
      ],
      "execution_count": null,
      "outputs": [
        {
          "output_type": "stream",
          "name": "stdout",
          "text": [
            "100\n"
          ]
        }
      ]
    },
    {
      "cell_type": "markdown",
      "metadata": {
        "id": "mEkaM6N_aMAq"
      },
      "source": [
        "**Conversión del sistema binario a decimal**"
      ]
    },
    {
      "cell_type": "markdown",
      "metadata": {
        "id": "PoiWipGuachi"
      },
      "source": [
        "Se recorren todos los dígitos del número en binario. Se multiplica cada dígito recorrido por su potencia de 2 correspondiente."
      ]
    },
    {
      "cell_type": "code",
      "metadata": {
        "colab": {
          "base_uri": "https://localhost:8080/"
        },
        "id": "CgcugGVqaLEt",
        "outputId": "dbe4dc53-d5dd-4001-a7f6-26c77cbf64ba"
      },
      "source": [
        "bin = \"1001\"\n",
        "dec = 0\n",
        "\n",
        "for i in range(len(bin)):\n",
        "  dec += int(bin[len(bin) - 1 - i]) * 2 ** int(i)\n",
        "print(dec)"
      ],
      "execution_count": null,
      "outputs": [
        {
          "output_type": "stream",
          "name": "stdout",
          "text": [
            "9\n"
          ]
        }
      ]
    },
    {
      "cell_type": "markdown",
      "metadata": {
        "id": "Fr0MYkNxgCuT"
      },
      "source": [
        "**Conversión del sistema binario a hexadecimal**"
      ]
    },
    {
      "cell_type": "markdown",
      "metadata": {
        "id": "r9ISUtjtgE-i"
      },
      "source": [
        "Los dígitos en binario son separados de 4 en 4 y transformados a formato hexadecimal."
      ]
    },
    {
      "cell_type": "code",
      "metadata": {
        "colab": {
          "base_uri": "https://localhost:8080/"
        },
        "id": "ORbdQZRIgIvT",
        "outputId": "846fcb9b-9841-4b4c-89f5-9367897fb5c3"
      },
      "source": [
        "bin = \"11010101\"\n",
        "hex = \"\"\n",
        "map = {0 : 0, 1: 1, 2: 2, 3: 3, 4: 4, 5: 5, 6: 6, 7: 7, 8: 8, 9: 9, 10: \"A\", 11: \"B\", 12: \"C\", 13: \"D\", 14: \"E\", 15: \"F\"}\n",
        "l = []\n",
        "\n",
        "while len(bin) >= 4:\n",
        "  l.append(bin[len(bin) - 4:])\n",
        "  bin = bin[:len(bin) - 4]\n",
        "if bin != \"\":\n",
        "  l.append(bin)\n",
        "\n",
        "for i in l:\n",
        "  hex = str(map[int(i, 2)]) + hex\n",
        "\n",
        "print(hex)"
      ],
      "execution_count": null,
      "outputs": [
        {
          "output_type": "stream",
          "name": "stdout",
          "text": [
            "['0101', '1101']\n",
            "D5\n"
          ]
        }
      ]
    },
    {
      "cell_type": "markdown",
      "metadata": {
        "id": "oYE-b84ONCXA"
      },
      "source": [
        "**Conversión del sistema hexadecimal a decimal**"
      ]
    },
    {
      "cell_type": "markdown",
      "metadata": {
        "id": "GpLdTuzVOFiy"
      },
      "source": [
        "Se multiplica el valor de cada dígito hexadecimal por su base elevada a la potencia correspondiente."
      ]
    },
    {
      "cell_type": "code",
      "metadata": {
        "colab": {
          "base_uri": "https://localhost:8080/"
        },
        "id": "wMGyekRqNGJh",
        "outputId": "b46a61c1-b2c2-4db2-b3a6-3045ec6b4971"
      },
      "source": [
        "hex = \"B2F8\"\n",
        "dec = 0\n",
        "map = {\"0\" : 0, \"1\" : 1, \"2\" : 2, \"3\" : 3, \"4\" : 4, \"5\" : 5, \"6\" : 6, \"7\" : 7, \"8\" : 8, \"9\" : 9, \"A\" : 10, \"B\" : 11, \"C\" : 12, \"D\" : 13, \"E\" : 14, \"F\" : 15}\n",
        "\n",
        "\n",
        "for i in range(len(hex)):\n",
        "  dec += map[hex[len(hex) - 1 - i]] * 16**i\n",
        "\n",
        "print(dec)"
      ],
      "execution_count": null,
      "outputs": [
        {
          "output_type": "stream",
          "name": "stdout",
          "text": [
            "45816\n"
          ]
        }
      ]
    },
    {
      "cell_type": "markdown",
      "metadata": {
        "id": "x7mT7DeQOivZ"
      },
      "source": [
        "**Conversión del sistema hexadecimal a binario**"
      ]
    },
    {
      "cell_type": "markdown",
      "metadata": {
        "id": "TuzpUUOgOmKM"
      },
      "source": [
        "Se sustituye cada carácter hexadecimal por su correspondiente número decimal. Cada uno de esos números decimales se convierten a grupos de 4 bits en binario."
      ]
    },
    {
      "cell_type": "code",
      "metadata": {
        "colab": {
          "base_uri": "https://localhost:8080/"
        },
        "id": "K7gQsOGXOm_7",
        "outputId": "2aae4fbb-c396-4eb2-de56-33fc8c0a852f"
      },
      "source": [
        "hex = \"27FA\"\n",
        "bin = \"\"\n",
        "map = {\"0\" : 0, \"1\" : 1, \"2\" : 2, \"3\" : 3, \"4\" : 4, \"5\" : 5, \"6\" : 6, \"7\" : 7, \"8\" : 8, \"9\" : 9, \"A\" : 10, \"B\" : 11, \"C\" : 12, \"D\" : 13, \"E\" : 14, \"F\" : 15}\n",
        "\n",
        "\n",
        "for i in hex:\n",
        "  r = \"{0:#b}\".format(map[i])[2:]  \n",
        "  if len(r) < 4:\n",
        "    r = \"0\"*(4 - len(r)) + r\n",
        "\n",
        "  bin += r\n",
        "\n",
        "print(bin)"
      ],
      "execution_count": 32,
      "outputs": [
        {
          "output_type": "stream",
          "name": "stdout",
          "text": [
            "0010011111111010\n"
          ]
        }
      ]
    }
  ]
}